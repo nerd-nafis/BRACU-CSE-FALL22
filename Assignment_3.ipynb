{
  "nbformat": 4,
  "nbformat_minor": 0,
  "metadata": {
    "colab": {
      "provenance": [],
      "include_colab_link": true
    },
    "kernelspec": {
      "name": "python3",
      "display_name": "Python 3"
    },
    "language_info": {
      "name": "python"
    }
  },
  "cells": [
    {
      "cell_type": "markdown",
      "metadata": {
        "id": "view-in-github",
        "colab_type": "text"
      },
      "source": [
        "<a href=\"https://colab.research.google.com/github/nerd-nafis/bubble-bot/blob/master/Assignment_3.ipynb\" target=\"_parent\"><img src=\"https://colab.research.google.com/assets/colab-badge.svg\" alt=\"Open In Colab\"/></a>"
      ]
    },
    {
      "cell_type": "markdown",
      "source": [
        "Task 1"
      ],
      "metadata": {
        "id": "FymL0K9yvKXq"
      }
    },
    {
      "cell_type": "code",
      "execution_count": null,
      "metadata": {
        "colab": {
          "base_uri": "https://localhost:8080/"
        },
        "id": "xtXVWLXWvHSz",
        "outputId": "65284c58-fed9-49df-a4c5-62c4f99b5bd1"
      },
      "outputs": [
        {
          "output_type": "stream",
          "name": "stdout",
          "text": [
            "24, 18, 12, 6, 0, -6"
          ]
        }
      ],
      "source": [
        "#(A)\n",
        "number=24\n",
        "while number>=-6:\n",
        "  if(number!=24): print(\", \", end=\"\")\n",
        "  print(number, end=\"\")\n",
        "  number-=6"
      ]
    },
    {
      "cell_type": "code",
      "source": [
        "#(B)\n",
        "number=-10\n",
        "while number<=20:\n",
        "  if(number!=-10): print(\", \", end=\"\")\n",
        "  print(number, end=\"\")\n",
        "  number+=5"
      ],
      "metadata": {
        "colab": {
          "base_uri": "https://localhost:8080/"
        },
        "id": "RiJgApnp7Bd6",
        "outputId": "016e96f6-7781-4c13-a4ae-1a6a8d7efdcd"
      },
      "execution_count": null,
      "outputs": [
        {
          "output_type": "stream",
          "name": "stdout",
          "text": [
            "-10, -5, 0, 5, 10, 15, 20"
          ]
        }
      ]
    },
    {
      "cell_type": "code",
      "source": [
        "#(C)\n",
        "number=18\n",
        "while number<=63:\n",
        "  if(number!=18): print(\", \", end=\"\")\n",
        "  print(number, end=\"\")\n",
        "  number+=9"
      ],
      "metadata": {
        "colab": {
          "base_uri": "https://localhost:8080/"
        },
        "id": "JwJavMoM79lB",
        "outputId": "3b109284-36aa-4244-b109-bf884e11cf8a"
      },
      "execution_count": null,
      "outputs": [
        {
          "output_type": "stream",
          "name": "stdout",
          "text": [
            "18, 27, 36, 45, 54, 63"
          ]
        }
      ]
    },
    {
      "cell_type": "code",
      "source": [
        "#(D)\n",
        "number=18\n",
        "flag=1\n",
        "while number<=63:\n",
        "  if(number!=18): print(\", \", end=\"\")\n",
        "  if(flag%2==0): print(\"-\",end=\"\")\n",
        "  print(number, end=\"\")\n",
        "  flag+=1\n",
        "  number+=9"
      ],
      "metadata": {
        "colab": {
          "base_uri": "https://localhost:8080/"
        },
        "id": "KSKF4FOZ8U9Z",
        "outputId": "1416b818-c9a6-489b-e2f5-c56971459284"
      },
      "execution_count": null,
      "outputs": [
        {
          "output_type": "stream",
          "name": "stdout",
          "text": [
            "18, -27, 36, -45, 54, -63"
          ]
        }
      ]
    },
    {
      "cell_type": "markdown",
      "source": [
        "Task 2"
      ],
      "metadata": {
        "id": "FS2xu5th8mqE"
      }
    },
    {
      "cell_type": "code",
      "source": [
        "car=input()\n",
        "num=int(input())\n",
        "while num:\n",
        "  print(car)\n",
        "  num-=1"
      ],
      "metadata": {
        "colab": {
          "base_uri": "https://localhost:8080/"
        },
        "id": "re-lQ1a_8oHg",
        "outputId": "2c1a66fa-99a1-4717-c881-a08bf0054e9d"
      },
      "execution_count": null,
      "outputs": [
        {
          "output_type": "stream",
          "name": "stdout",
          "text": [
            "Toyota\n",
            "2\n",
            "Toyota\n",
            "Toyota\n"
          ]
        }
      ]
    },
    {
      "cell_type": "markdown",
      "source": [
        "Task 3"
      ],
      "metadata": {
        "id": "zYWSWvMf9ik5"
      }
    },
    {
      "cell_type": "code",
      "source": [
        "sum=0\n",
        "for i in range(1,601):\n",
        "  if(i%7==0 and i%9==0):\n",
        "    sum+=i\n",
        "print(sum)"
      ],
      "metadata": {
        "colab": {
          "base_uri": "https://localhost:8080/"
        },
        "id": "H_9_ltin-QF5",
        "outputId": "a39c2d01-e566-4508-d737-0791fc9b1efc"
      },
      "execution_count": null,
      "outputs": [
        {
          "output_type": "stream",
          "name": "stdout",
          "text": [
            "2835\n"
          ]
        }
      ]
    },
    {
      "cell_type": "markdown",
      "source": [
        "Task 4"
      ],
      "metadata": {
        "id": "L-qR6rFs-OyQ"
      }
    },
    {
      "cell_type": "code",
      "source": [
        "sum=0\n",
        "for i in range(1,601):\n",
        "  if(i%7==0 and i%9==0): continue\n",
        "  elif(i%7==0 or i%9==0):\n",
        "    sum+=i\n",
        "print(sum)"
      ],
      "metadata": {
        "colab": {
          "base_uri": "https://localhost:8080/"
        },
        "id": "Td8qJXx89j9x",
        "outputId": "f47f1466-be7d-43d7-cfe6-ddd8267da189"
      },
      "execution_count": null,
      "outputs": [
        {
          "output_type": "stream",
          "name": "stdout",
          "text": [
            "39814\n"
          ]
        }
      ]
    },
    {
      "cell_type": "markdown",
      "source": [
        "Task 5"
      ],
      "metadata": {
        "id": "h6gSyB58-naw"
      }
    },
    {
      "cell_type": "code",
      "source": [
        "for i in range(10,51):\n",
        "  if(i==11): print(i, end=\"\")\n",
        "  elif(i%2!=0): print(\" \", i,end=\"\")"
      ],
      "metadata": {
        "id": "GmzwkNt2-o7y",
        "colab": {
          "base_uri": "https://localhost:8080/"
        },
        "outputId": "89a92f6d-095f-4b68-b7b7-9bb34c242738"
      },
      "execution_count": null,
      "outputs": [
        {
          "output_type": "stream",
          "name": "stdout",
          "text": [
            "11  13  15  17  19  21  23  25  27  29  31  33  35  37  39  41  43  45  47  49"
          ]
        }
      ]
    },
    {
      "cell_type": "markdown",
      "source": [
        "Task 6"
      ],
      "metadata": {
        "id": "QG6fU3awepO8"
      }
    },
    {
      "cell_type": "code",
      "source": [
        "sum=0\n",
        "n=int(input())\n",
        "for i in range(1,n+1):\n",
        "  if(i%2==0): sum-=i**2\n",
        "  else: sum+=i**2\n",
        "print(sum)"
      ],
      "metadata": {
        "colab": {
          "base_uri": "https://localhost:8080/"
        },
        "id": "oOMNbzEherAb",
        "outputId": "a9ad70cb-e835-40b7-fe9c-f57a8f326bb8"
      },
      "execution_count": null,
      "outputs": [
        {
          "output_type": "stream",
          "name": "stdout",
          "text": [
            "10\n",
            "-55\n"
          ]
        }
      ]
    },
    {
      "cell_type": "markdown",
      "source": [
        "Task 7"
      ],
      "metadata": {
        "id": "3-hto1cLfnty"
      }
    },
    {
      "cell_type": "code",
      "source": [
        "count=0; sum=0\n",
        "for i in range(10):\n",
        "  x=int(input())\n",
        "  if(x%2!=0): \n",
        "    count+=1\n",
        "    sum+=x\n",
        "avg=sum/count\n",
        "print(f\"The total of the odd numbers is {sum} and their average is {avg}\")"
      ],
      "metadata": {
        "colab": {
          "base_uri": "https://localhost:8080/"
        },
        "id": "YNUbTz8sfpci",
        "outputId": "ce732c6b-d873-4f76-ff09-e35a97af8c8b"
      },
      "execution_count": null,
      "outputs": [
        {
          "output_type": "stream",
          "name": "stdout",
          "text": [
            "-20\n",
            "13\n",
            "-5\n",
            "40\n",
            "-17\n",
            "10\n",
            "20\n",
            "-8\n",
            "99\n",
            "-20\n",
            "The total of the odd numbers is 90 and their average is 22.5\n"
          ]
        }
      ]
    },
    {
      "cell_type": "markdown",
      "source": [
        "Task 8"
      ],
      "metadata": {
        "id": "6whq2HK2hJEG"
      }
    },
    {
      "cell_type": "code",
      "source": [
        "n=int(input())\n",
        "sum=0\n",
        "for i in range(1,n+1):\n",
        "  if(i%7==0): sum+=i\n",
        "print(sum)"
      ],
      "metadata": {
        "colab": {
          "base_uri": "https://localhost:8080/"
        },
        "id": "EbH_8YX5hLb2",
        "outputId": "d0408f9a-8f12-4dd7-f6c2-ecd891b1def4"
      },
      "execution_count": null,
      "outputs": [
        {
          "output_type": "stream",
          "name": "stdout",
          "text": [
            "50\n",
            "196\n"
          ]
        }
      ]
    },
    {
      "cell_type": "markdown",
      "source": [
        "Task 9"
      ],
      "metadata": {
        "id": "NKiIsNFghvh1"
      }
    },
    {
      "cell_type": "code",
      "source": [
        "sum=0\n",
        "for i in range(5):\n",
        "  x=int(input())\n",
        "  sum+=x\n",
        "  print(sum)"
      ],
      "metadata": {
        "colab": {
          "base_uri": "https://localhost:8080/"
        },
        "id": "GlFArg4-hxIE",
        "outputId": "c6811b41-9453-4ec9-ecc6-f25e866752cb"
      },
      "execution_count": null,
      "outputs": [
        {
          "output_type": "stream",
          "name": "stdout",
          "text": [
            "1\n",
            "1\n",
            "2\n",
            "3\n",
            "3\n",
            "6\n",
            "4\n",
            "10\n",
            "5\n",
            "15\n"
          ]
        }
      ]
    },
    {
      "cell_type": "markdown",
      "source": [
        "Task 9 using list"
      ],
      "metadata": {
        "id": "8NXljxzeiXJ0"
      }
    },
    {
      "cell_type": "code",
      "source": [
        "sum=0\n",
        "lst=[]\n",
        "for i in range(5):\n",
        "  x=int(input())\n",
        "  sum+=x\n",
        "  lst.append(sum)\n",
        "for i in lst:\n",
        "  print(i)"
      ],
      "metadata": {
        "colab": {
          "base_uri": "https://localhost:8080/"
        },
        "id": "7rorVVyaiaVL",
        "outputId": "24747597-a43c-4513-8840-08b23b59bc7d"
      },
      "execution_count": null,
      "outputs": [
        {
          "output_type": "stream",
          "name": "stdout",
          "text": [
            "1\n",
            "2\n",
            "3\n",
            "4\n",
            "5\n",
            "1\n",
            "3\n",
            "6\n",
            "10\n",
            "15\n"
          ]
        }
      ]
    },
    {
      "cell_type": "markdown",
      "source": [
        "Task 10"
      ],
      "metadata": {
        "id": "naAcHZozi0QT"
      }
    },
    {
      "cell_type": "code",
      "source": [
        "num=int(input())\n",
        "first=True\n",
        "while num>0:\n",
        "  digit=num%10\n",
        "  num//=10\n",
        "  if(first!=True): print(\", \", end=\"\")\n",
        "  print(digit, end=\"\")\n",
        "  first=False"
      ],
      "metadata": {
        "colab": {
          "base_uri": "https://localhost:8080/"
        },
        "id": "0mf4hXAgi18T",
        "outputId": "7ac10be1-1d35-4917-aa46-b6ff7e02f8a5"
      },
      "execution_count": null,
      "outputs": [
        {
          "output_type": "stream",
          "name": "stdout",
          "text": [
            "32768\n",
            "8, 6, 7, 2, 3"
          ]
        }
      ]
    },
    {
      "cell_type": "markdown",
      "source": [
        "Task 11"
      ],
      "metadata": {
        "id": "nnbg71C3lHR_"
      }
    },
    {
      "cell_type": "code",
      "source": [
        "n=int(input())\n",
        "count=0\n",
        "while n!=0:\n",
        "  n//=10\n",
        "  count+=1\n",
        "print(count)"
      ],
      "metadata": {
        "colab": {
          "base_uri": "https://localhost:8080/"
        },
        "id": "GUQ4X__YlIpf",
        "outputId": "19195b18-5449-40f8-c7bc-1841b7166ce4"
      },
      "execution_count": null,
      "outputs": [
        {
          "output_type": "stream",
          "name": "stdout",
          "text": [
            "3875\n",
            "4\n"
          ]
        }
      ]
    },
    {
      "cell_type": "markdown",
      "source": [
        "Task 12"
      ],
      "metadata": {
        "id": "7wxSiqEALKQA"
      }
    },
    {
      "cell_type": "code",
      "source": [
        "n=int(input())\n",
        "number=n\n",
        "count=0\n",
        "while n!=0:\n",
        "  n//=10\n",
        "  count+=1\n",
        "i=count\n",
        "\n",
        "while i>0:\n",
        "  if(i!=count): print(\",\", end=\" \")\n",
        "  digit=number%(10**i)\n",
        "  digit//=(10**(i-1))\n",
        "  print(digit, end=\"\")\n",
        "  i-=1"
      ],
      "metadata": {
        "colab": {
          "base_uri": "https://localhost:8080/"
        },
        "id": "dHrFPnsbLLzI",
        "outputId": "7664e928-d602-482f-c8d2-6a9895c5c85c"
      },
      "execution_count": null,
      "outputs": [
        {
          "output_type": "stream",
          "name": "stdout",
          "text": [
            "32768\n",
            "3, 2, 7, 6, 8"
          ]
        }
      ]
    },
    {
      "cell_type": "markdown",
      "source": [
        "Task 13"
      ],
      "metadata": {
        "id": "4yv116ISlVm_"
      }
    },
    {
      "cell_type": "code",
      "source": [
        "num=int(input())\n",
        "count=0\n",
        "for i in range(1,num+1):\n",
        "  if(num%i==0):\n",
        "    print(i)\n",
        "    count+=1\n",
        "print(f\"Total {count} divisors.\")"
      ],
      "metadata": {
        "colab": {
          "base_uri": "https://localhost:8080/"
        },
        "id": "fYvNkDrUlXH3",
        "outputId": "2eabf3cc-80b4-47a3-d348-74aa2b4ab743"
      },
      "execution_count": null,
      "outputs": [
        {
          "output_type": "stream",
          "name": "stdout",
          "text": [
            "121\n",
            "1\n",
            "11\n",
            "121\n",
            "Total 3 divisors.\n"
          ]
        }
      ]
    },
    {
      "cell_type": "markdown",
      "source": [
        "Task 14"
      ],
      "metadata": {
        "id": "3_R35W6ynLV8"
      }
    },
    {
      "cell_type": "code",
      "source": [
        "num=int(input())\n",
        "count=0\n",
        "for i in range(1,num+1):\n",
        "  if(num%i==0):\n",
        "    if(i!=num): count+=i\n",
        "if(count==num): print(f\"{num} is a perfect number\")\n",
        "else: print(f\"{num} is not a perfect number\")"
      ],
      "metadata": {
        "colab": {
          "base_uri": "https://localhost:8080/"
        },
        "id": "NeDWLoqrnWsp",
        "outputId": "8f77ac13-ca00-42cd-9a61-decf07a65223"
      },
      "execution_count": null,
      "outputs": [
        {
          "output_type": "stream",
          "name": "stdout",
          "text": [
            "33\n",
            "33 is not a perfect number\n"
          ]
        }
      ]
    },
    {
      "cell_type": "markdown",
      "source": [
        "Task 15"
      ],
      "metadata": {
        "id": "c5uWM4SfpDcL"
      }
    },
    {
      "cell_type": "code",
      "source": [
        "import math\n",
        "num=int(input())\n",
        "flag=True\n",
        "for i in range(2,(int(math.sqrt(num))+1)):\n",
        "  if(num%i==0):\n",
        "    flag=False\n",
        "    break\n",
        "if(flag==True): print(f\"{num} is a prime number\")\n",
        "else: print(f\"{num} is not a prime number\")"
      ],
      "metadata": {
        "colab": {
          "base_uri": "https://localhost:8080/"
        },
        "id": "85PMhaC0pEzr",
        "outputId": "770c361c-4243-46b7-95ca-171c6e77c27c"
      },
      "execution_count": null,
      "outputs": [
        {
          "output_type": "stream",
          "name": "stdout",
          "text": [
            "19\n",
            "19 is a prime number\n"
          ]
        }
      ]
    },
    {
      "cell_type": "markdown",
      "source": [
        "Task 16"
      ],
      "metadata": {
        "id": "cnRq_aQ6q6Gb"
      }
    },
    {
      "cell_type": "code",
      "source": [
        "mx=-2147483648\n",
        "mn=2147483647\n",
        "T=int(input())\n",
        "sum=0\n",
        "for i in range(T):\n",
        "  x=int(input())\n",
        "  if(mx<x): mx=x\n",
        "  if(mn>x): mn=x\n",
        "  sum+=x\n",
        "print(\"Maximum\", mx)\n",
        "print(\"Minimum\", mn)\n",
        "print(\"Average is\", sum/T)"
      ],
      "metadata": {
        "colab": {
          "base_uri": "https://localhost:8080/"
        },
        "id": "DMSgMmLFq8BC",
        "outputId": "a97edec6-756c-482b-c4f9-ef53f152b26f"
      },
      "execution_count": null,
      "outputs": [
        {
          "output_type": "stream",
          "name": "stdout",
          "text": [
            "5\n",
            "10\n",
            "4\n",
            "-1\n",
            "-100\n",
            "1\n",
            "Maximum 10\n",
            "Minimum -100\n",
            "Average is -17.2\n"
          ]
        }
      ]
    },
    {
      "cell_type": "markdown",
      "source": [
        "Task 17"
      ],
      "metadata": {
        "id": "pDNMCWAusvdI"
      }
    },
    {
      "cell_type": "code",
      "source": [
        "n=int(input())\n",
        "for i in range(n):\n",
        "  for j in range(n):\n",
        "    print(\"+\", end=\"\")\n",
        "  print(\"\")"
      ],
      "metadata": {
        "colab": {
          "base_uri": "https://localhost:8080/"
        },
        "id": "N9BvUWibsxof",
        "outputId": "010fa1ec-b60b-4a5b-d0fc-dd434ee98604"
      },
      "execution_count": null,
      "outputs": [
        {
          "output_type": "stream",
          "name": "stdout",
          "text": [
            "5\n",
            "+++++\n",
            "+++++\n",
            "+++++\n",
            "+++++\n",
            "+++++\n"
          ]
        }
      ]
    },
    {
      "cell_type": "markdown",
      "source": [
        "Task 18"
      ],
      "metadata": {
        "id": "lX6lXWextUyv"
      }
    },
    {
      "cell_type": "code",
      "source": [
        "r=int(input())\n",
        "c=int(input())\n",
        "for i in range(1,r+1):\n",
        "  for j in range(1,c+1):\n",
        "    print(j, end=\"\")\n",
        "  print(\"\")"
      ],
      "metadata": {
        "colab": {
          "base_uri": "https://localhost:8080/"
        },
        "id": "E6GGYekptWDn",
        "outputId": "480d04f0-6739-4eb2-b67e-d98aaa498d45"
      },
      "execution_count": null,
      "outputs": [
        {
          "output_type": "stream",
          "name": "stdout",
          "text": [
            "3\n",
            "2\n",
            "12\n",
            "12\n",
            "12\n"
          ]
        }
      ]
    },
    {
      "cell_type": "markdown",
      "source": [
        "Task 19"
      ],
      "metadata": {
        "id": "bZgAPtXqtpYn"
      }
    },
    {
      "cell_type": "code",
      "source": [
        "n=int(input())\n",
        "for i in range(1,n+1):\n",
        "  for j in range(1, i+1):\n",
        "    print(j, end=\"\")\n",
        "  print(\"\")"
      ],
      "metadata": {
        "colab": {
          "base_uri": "https://localhost:8080/"
        },
        "id": "982wauWhtrQO",
        "outputId": "d6bd889f-e238-4a34-b343-4f675bd63f96"
      },
      "execution_count": null,
      "outputs": [
        {
          "output_type": "stream",
          "name": "stdout",
          "text": [
            "4\n",
            "1\n",
            "12\n",
            "123\n",
            "1234\n"
          ]
        }
      ]
    },
    {
      "cell_type": "markdown",
      "source": [
        "Prac 1"
      ],
      "metadata": {
        "id": "Pd2IxI0f1r1r"
      }
    },
    {
      "cell_type": "code",
      "source": [],
      "metadata": {
        "id": "kssa-XAo1rZj"
      },
      "execution_count": null,
      "outputs": []
    }
  ]
}