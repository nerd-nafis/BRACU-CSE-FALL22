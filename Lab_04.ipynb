{
  "nbformat": 4,
  "nbformat_minor": 0,
  "metadata": {
    "colab": {
      "provenance": [],
      "authorship_tag": "ABX9TyNN/ciSHtEFfgiJpJ4wet6L",
      "include_colab_link": true
    },
    "kernelspec": {
      "name": "python3",
      "display_name": "Python 3"
    },
    "language_info": {
      "name": "python"
    }
  },
  "cells": [
    {
      "cell_type": "markdown",
      "metadata": {
        "id": "view-in-github",
        "colab_type": "text"
      },
      "source": [
        "<a href=\"https://colab.research.google.com/github/nerd-nafis/BRACU-CSE-FALL22/blob/master/Lab_04.ipynb\" target=\"_parent\"><img src=\"https://colab.research.google.com/assets/colab-badge.svg\" alt=\"Open In Colab\"/></a>"
      ]
    },
    {
      "cell_type": "markdown",
      "source": [
        "**TASK 01**"
      ],
      "metadata": {
        "id": "QZWoDd91dHc7"
      }
    },
    {
      "cell_type": "code",
      "execution_count": null,
      "metadata": {
        "colab": {
          "base_uri": "https://localhost:8080/"
        },
        "id": "OPOZ9rAMdBhQ",
        "outputId": "4079fe07-85a9-4692-cf8e-3d555c8635e0"
      },
      "outputs": [
        {
          "output_type": "stream",
          "name": "stdout",
          "text": [
            "CSE110\n",
            "011ESC\n"
          ]
        }
      ],
      "source": [
        "str1 = input()\n",
        "print(str1[::-1])"
      ]
    },
    {
      "cell_type": "markdown",
      "source": [
        "**TASK 02**"
      ],
      "metadata": {
        "id": "_gvgP3vjeajb"
      }
    },
    {
      "cell_type": "code",
      "source": [
        "str1 = input()\n",
        "rev = int(input())\n",
        "print(str1[rev::-1] + str1[rev+1 : len(str1)])"
      ],
      "metadata": {
        "colab": {
          "base_uri": "https://localhost:8080/"
        },
        "id": "-qUC7MZ0duzc",
        "outputId": "87edaeca-3e58-44d3-93e6-9895c1e8cf6e"
      },
      "execution_count": null,
      "outputs": [
        {
          "output_type": "stream",
          "name": "stdout",
          "text": [
            "aBcd1234defg\n",
            "5\n",
            "21dcBa34defg\n"
          ]
        }
      ]
    },
    {
      "cell_type": "markdown",
      "source": [
        "**TASK 03**"
      ],
      "metadata": {
        "id": "W299on2bh0nE"
      }
    },
    {
      "cell_type": "code",
      "source": [
        "str1 = input()\n",
        "isbinary = 0\n",
        "for char in str1: \n",
        "  if char not in '01':\n",
        "    isbinary = 1\n",
        "    break\n",
        "  else: pass\n",
        "\n",
        "if isbinary==0 : print(\"Binary Number\")\n",
        "else: print(\"Not a Binary Number\")"
      ],
      "metadata": {
        "colab": {
          "base_uri": "https://localhost:8080/"
        },
        "id": "EG9k6ta4igYp",
        "outputId": "24083cdb-e52d-409a-f0c9-2191347201ef"
      },
      "execution_count": null,
      "outputs": [
        {
          "output_type": "stream",
          "name": "stdout",
          "text": [
            "0012120\n",
            "Not Binary\n"
          ]
        }
      ]
    },
    {
      "cell_type": "markdown",
      "source": [
        "**TASK 04**"
      ],
      "metadata": {
        "id": "gL_APn4pnBZ2"
      }
    },
    {
      "cell_type": "code",
      "source": [
        "#AMI EITA PARI KINTU KORBONA KARON BORO CODE LEKHTE BHALLAGENA"
      ],
      "metadata": {
        "id": "ClRspsTNnEuu"
      },
      "execution_count": null,
      "outputs": []
    },
    {
      "cell_type": "markdown",
      "source": [
        "**TASK 5**"
      ],
      "metadata": {
        "id": "6LbLfDwXnRC2"
      }
    },
    {
      "cell_type": "code",
      "source": [
        "str1 = input()\n",
        "for char in range(len(str1)): \n",
        "  print(str1[0:char+1])"
      ],
      "metadata": {
        "colab": {
          "base_uri": "https://localhost:8080/"
        },
        "id": "V2MG47uynTyu",
        "outputId": "fcca99aa-4a06-4d5a-ad12-bbdfe4e319d8"
      },
      "execution_count": null,
      "outputs": [
        {
          "output_type": "stream",
          "name": "stdout",
          "text": [
            "BANGLA\n",
            "B\n",
            "BA\n",
            "BAN\n",
            "BANG\n",
            "BANGL\n",
            "BANGLA\n"
          ]
        }
      ]
    },
    {
      "cell_type": "markdown",
      "source": [
        "**TASK 06**"
      ],
      "metadata": {
        "id": "wiZBOoK4nqrW"
      }
    },
    {
      "cell_type": "code",
      "source": [
        "str1 = input()\n",
        "for x in range (len(str1)) :\n",
        "  print( str1[x], \":\", ord(str1[x]) )"
      ],
      "metadata": {
        "colab": {
          "base_uri": "https://localhost:8080/"
        },
        "id": "1gYSvKhYnetN",
        "outputId": "bf31f2e3-c8d5-45f7-ab63-fab25a3dfa9a"
      },
      "execution_count": null,
      "outputs": [
        {
          "output_type": "stream",
          "name": "stdout",
          "text": [
            "PROGRAMMING\n",
            "P : 80\n",
            "R : 82\n",
            "O : 79\n",
            "G : 71\n",
            "R : 82\n",
            "A : 65\n",
            "M : 77\n",
            "M : 77\n",
            "I : 73\n",
            "N : 78\n",
            "G : 71\n"
          ]
        }
      ]
    },
    {
      "cell_type": "markdown",
      "source": [
        "**TASK 07**"
      ],
      "metadata": {
        "id": "S0oRu_WwoUTT"
      }
    },
    {
      "cell_type": "code",
      "source": [
        "str1 = input()\n",
        "for x in range (len(str1)): \n",
        "  print( chr(ord(str1[x])+1) , end=\"\" )"
      ],
      "metadata": {
        "colab": {
          "base_uri": "https://localhost:8080/"
        },
        "id": "6mSSq9dXn5tt",
        "outputId": "2ac1f825-b27b-44c1-d5cd-2c5c0dc2b380"
      },
      "execution_count": null,
      "outputs": [
        {
          "output_type": "stream",
          "name": "stdout",
          "text": [
            "abcd\n",
            "bcde"
          ]
        }
      ]
    },
    {
      "cell_type": "markdown",
      "source": [
        "**TASK 08**"
      ],
      "metadata": {
        "id": "EHEkXxZYozCF"
      }
    },
    {
      "cell_type": "code",
      "source": [
        "str1 = input()\n",
        "for x in range (len(str1)) :\n",
        "  if x%2!=0 : print ( chr(ord(str1[x])-32), end=\"\" )"
      ],
      "metadata": {
        "colab": {
          "base_uri": "https://localhost:8080/"
        },
        "id": "Vb1ADGMwopdc",
        "outputId": "cd612a73-e3be-4bbd-ad9a-6ac13fde1354"
      },
      "execution_count": null,
      "outputs": [
        {
          "output_type": "stream",
          "name": "stdout",
          "text": [
            "abcd\n",
            "BD"
          ]
        }
      ]
    },
    {
      "cell_type": "markdown",
      "source": [
        "**TASK 09**"
      ],
      "metadata": {
        "id": "VsgU2cnbrd95"
      }
    },
    {
      "cell_type": "code",
      "source": [
        "str1 = input()\n",
        "res = ''\n",
        "for x in range (len(str1)-1): \n",
        "  if str1[x] != str1[x+1] : res += str1[x]\n",
        "  else: x+=1\n",
        "print (res + str1[len(str1)-1] )  "
      ],
      "metadata": {
        "colab": {
          "base_uri": "https://localhost:8080/"
        },
        "id": "_Sx8WXs2rfxo",
        "outputId": "f9340e73-8888-4925-ce33-0c3bf19cd92a"
      },
      "execution_count": null,
      "outputs": [
        {
          "output_type": "stream",
          "name": "stdout",
          "text": [
            "Jupyter Notebook is better. Case sensitivity check AAaaaAaaAAAa\n",
            "Jupyter Notebok is beter. Case sensitivity check AaAaAa\n"
          ]
        }
      ]
    },
    {
      "cell_type": "markdown",
      "source": [
        "**TASK 10**"
      ],
      "metadata": {
        "id": "nXgfJR6lphqp"
      }
    },
    {
      "cell_type": "code",
      "source": [
        "inp = input()\n",
        "\n",
        "for x in range (len(inp)): \n",
        "  if x == ',': \n",
        "    str1 = inp[:inp[x]]\n",
        "    str2 = inp[inp[x+2]:len(inp)]\n",
        "    break\n",
        "\n",
        "if (len(str1) > len(str2) ):\n",
        "  max = str1\n",
        "  min = str2\n",
        "else :\n",
        "  max = str2\n",
        "  min = str1\n",
        "\n",
        "for x in range (len(min)): \n",
        "  print( str1[x] + str2[x], end=\"\")\n",
        "print(max[len(min)::])"
      ],
      "metadata": {
        "colab": {
          "base_uri": "https://localhost:8080/"
        },
        "id": "px8HnNaApSH3",
        "outputId": "084086c3-5db9-4a28-b1f6-3469e593d589"
      },
      "execution_count": null,
      "outputs": [
        {
          "output_type": "stream",
          "name": "stdout",
          "text": [
            "asdf, zxcvbn\n",
            "azsxdcfvbn\n"
          ]
        }
      ]
    }
  ]
}