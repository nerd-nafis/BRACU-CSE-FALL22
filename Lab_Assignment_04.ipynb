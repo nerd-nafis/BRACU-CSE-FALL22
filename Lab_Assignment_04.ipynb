{
  "nbformat": 4,
  "nbformat_minor": 0,
  "metadata": {
    "colab": {
      "provenance": [],
      "authorship_tag": "ABX9TyNYRM5yaoePt2rm1If8j7PJ",
      "include_colab_link": true
    },
    "kernelspec": {
      "name": "python3",
      "display_name": "Python 3"
    },
    "language_info": {
      "name": "python"
    }
  },
  "cells": [
    {
      "cell_type": "markdown",
      "metadata": {
        "id": "view-in-github",
        "colab_type": "text"
      },
      "source": [
        "<a href=\"https://colab.research.google.com/github/nerd-nafis/BRACU-CSE-FALL22/blob/master/Lab_Assignment_04.ipynb\" target=\"_parent\"><img src=\"https://colab.research.google.com/assets/colab-badge.svg\" alt=\"Open In Colab\"/></a>"
      ]
    },
    {
      "cell_type": "markdown",
      "source": [
        "**TASK 01**"
      ],
      "metadata": {
        "id": "QZWoDd91dHc7"
      }
    },
    {
      "cell_type": "code",
      "execution_count": null,
      "metadata": {
        "colab": {
          "base_uri": "https://localhost:8080/"
        },
        "id": "OPOZ9rAMdBhQ",
        "outputId": "4079fe07-85a9-4692-cf8e-3d555c8635e0"
      },
      "outputs": [
        {
          "output_type": "stream",
          "name": "stdout",
          "text": [
            "CSE110\n",
            "011ESC\n"
          ]
        }
      ],
      "source": [
        "str1 = input()\n",
        "print(str1[::-1])"
      ]
    },
    {
      "cell_type": "markdown",
      "source": [
        "**TASK 02**"
      ],
      "metadata": {
        "id": "_gvgP3vjeajb"
      }
    },
    {
      "cell_type": "code",
      "source": [
        "str1 = input()\n",
        "rev = int(input())\n",
        "print(str1[rev::-1] + str1[rev+1 : len(str1)])"
      ],
      "metadata": {
        "colab": {
          "base_uri": "https://localhost:8080/"
        },
        "id": "-qUC7MZ0duzc",
        "outputId": "87edaeca-3e58-44d3-93e6-9895c1e8cf6e"
      },
      "execution_count": null,
      "outputs": [
        {
          "output_type": "stream",
          "name": "stdout",
          "text": [
            "aBcd1234defg\n",
            "5\n",
            "21dcBa34defg\n"
          ]
        }
      ]
    },
    {
      "cell_type": "markdown",
      "source": [
        "**TASK 03**"
      ],
      "metadata": {
        "id": "W299on2bh0nE"
      }
    },
    {
      "cell_type": "code",
      "source": [
        "str1 = input()\n",
        "isbinary = True\n",
        "for char in str1: \n",
        "  if char not in '01':\n",
        "    isbinary = False\n",
        "    break\n",
        "  else: pass\n",
        "\n",
        "if isbinary==True : print(\"Binary Number\")\n",
        "else: print(\"Not a Binary Number\")"
      ],
      "metadata": {
        "colab": {
          "base_uri": "https://localhost:8080/"
        },
        "id": "EG9k6ta4igYp",
        "outputId": "bd82ed3e-0b8d-4835-8dce-6e505a4df3b9"
      },
      "execution_count": 18,
      "outputs": [
        {
          "output_type": "stream",
          "name": "stdout",
          "text": [
            "001212\n",
            "Not a Binary Number\n"
          ]
        }
      ]
    },
    {
      "cell_type": "markdown",
      "source": [
        "**TASK 04**\n",
        "\n",
        "*   If the length of the input string is less than 4, then your program should print the same string as an output.\n",
        "*   If the input string’s length is greater than 3, then your program should add \"er\" at the end of the input string.\n",
        "*   If the input string already ends with \"er\", then add \"est\" instead, regardless of the length of the input string\n",
        "*   If the input string already ends with \"est\", then your program should print the same input string as an output.\n",
        "\n",
        "\n",
        "\n",
        "\n"
      ],
      "metadata": {
        "id": "gL_APn4pnBZ2"
      }
    },
    {
      "cell_type": "code",
      "source": [
        "str1 = input()\n",
        "\n",
        "if len(str1) > 3 :\n",
        "  if str1[-2:] == \"er\" : str1 = str1[0:len(str1)-2] + \"est\"\n",
        "  elif str1[-3:] == \"est\" : str1 = str1\n",
        "  else : str1 = str1 + \"er\"\n",
        "\n",
        "elif len(str1) < 4 : \n",
        "  if str1[-2:] == \"er\" : str1 = str1[0:len(str1)-2] + \"est\"\n",
        "  elif str1[-3:] == \"est\" : str1 = str1\n",
        "  else : str1 = str1 \n",
        "\n",
        "print(str1)  "
      ],
      "metadata": {
        "id": "ClRspsTNnEuu",
        "colab": {
          "base_uri": "https://localhost:8080/"
        },
        "outputId": "7120d8b1-2903-457a-b616-217fc16a8ef3"
      },
      "execution_count": 30,
      "outputs": [
        {
          "output_type": "stream",
          "name": "stdout",
          "text": [
            "strongest\n",
            "strongest\n"
          ]
        }
      ]
    },
    {
      "cell_type": "markdown",
      "source": [
        "**TASK 5**"
      ],
      "metadata": {
        "id": "6LbLfDwXnRC2"
      }
    },
    {
      "cell_type": "code",
      "source": [
        "str1 = input()\n",
        "for char in range(len(str1)): \n",
        "  print(str1[0:char+1])"
      ],
      "metadata": {
        "colab": {
          "base_uri": "https://localhost:8080/"
        },
        "id": "V2MG47uynTyu",
        "outputId": "fcca99aa-4a06-4d5a-ad12-bbdfe4e319d8"
      },
      "execution_count": null,
      "outputs": [
        {
          "output_type": "stream",
          "name": "stdout",
          "text": [
            "BANGLA\n",
            "B\n",
            "BA\n",
            "BAN\n",
            "BANG\n",
            "BANGL\n",
            "BANGLA\n"
          ]
        }
      ]
    },
    {
      "cell_type": "markdown",
      "source": [
        "**TASK 06**"
      ],
      "metadata": {
        "id": "wiZBOoK4nqrW"
      }
    },
    {
      "cell_type": "code",
      "source": [
        "str1 = input()\n",
        "for x in range (len(str1)) :\n",
        "  print( str1[x], \":\", ord(str1[x]) )"
      ],
      "metadata": {
        "colab": {
          "base_uri": "https://localhost:8080/"
        },
        "id": "1gYSvKhYnetN",
        "outputId": "bf31f2e3-c8d5-45f7-ab63-fab25a3dfa9a"
      },
      "execution_count": null,
      "outputs": [
        {
          "output_type": "stream",
          "name": "stdout",
          "text": [
            "PROGRAMMING\n",
            "P : 80\n",
            "R : 82\n",
            "O : 79\n",
            "G : 71\n",
            "R : 82\n",
            "A : 65\n",
            "M : 77\n",
            "M : 77\n",
            "I : 73\n",
            "N : 78\n",
            "G : 71\n"
          ]
        }
      ]
    },
    {
      "cell_type": "markdown",
      "source": [
        "**TASK 07**"
      ],
      "metadata": {
        "id": "S0oRu_WwoUTT"
      }
    },
    {
      "cell_type": "code",
      "source": [
        "str1 = input()\n",
        "for x in range (len(str1)): \n",
        "  if (ord(str1[x]) == 122) : print( chr(ord(str1[x])-25) , end=\"\" )\n",
        "  else : print( chr(ord(str1[x])+1) , end=\"\" )\n",
        "\n",
        "  "
      ],
      "metadata": {
        "colab": {
          "base_uri": "https://localhost:8080/"
        },
        "id": "6mSSq9dXn5tt",
        "outputId": "7e4ec054-7a81-42be-b974-39ec4152ab60"
      },
      "execution_count": 13,
      "outputs": [
        {
          "output_type": "stream",
          "name": "stdout",
          "text": [
            "the cow\n",
            "uif!dpx"
          ]
        }
      ]
    },
    {
      "cell_type": "markdown",
      "source": [
        "**TASK 08**"
      ],
      "metadata": {
        "id": "EHEkXxZYozCF"
      }
    },
    {
      "cell_type": "code",
      "source": [
        "str1 = input()\n",
        "for x in range (len(str1)) :\n",
        "  if x%2!=0 : print ( chr(ord(str1[x])-32), end=\"\" )"
      ],
      "metadata": {
        "colab": {
          "base_uri": "https://localhost:8080/"
        },
        "id": "Vb1ADGMwopdc",
        "outputId": "cd612a73-e3be-4bbd-ad9a-6ac13fde1354"
      },
      "execution_count": null,
      "outputs": [
        {
          "output_type": "stream",
          "name": "stdout",
          "text": [
            "abcd\n",
            "BD"
          ]
        }
      ]
    },
    {
      "cell_type": "markdown",
      "source": [
        "**TASK 09**"
      ],
      "metadata": {
        "id": "VsgU2cnbrd95"
      }
    },
    {
      "cell_type": "code",
      "source": [
        "str1 = input()\n",
        "res = ''\n",
        "for x in range (len(str1)-1): \n",
        "  if str1[x] != str1[x+1] : res += str1[x]\n",
        "  else: x+=1\n",
        "print (res + str1[len(str1)-1] )  "
      ],
      "metadata": {
        "colab": {
          "base_uri": "https://localhost:8080/"
        },
        "id": "_Sx8WXs2rfxo",
        "outputId": "f9340e73-8888-4925-ce33-0c3bf19cd92a"
      },
      "execution_count": null,
      "outputs": [
        {
          "output_type": "stream",
          "name": "stdout",
          "text": [
            "Jupyter Notebook is better. Case sensitivity check AAaaaAaaAAAa\n",
            "Jupyter Notebok is beter. Case sensitivity check AaAaAa\n"
          ]
        }
      ]
    },
    {
      "cell_type": "markdown",
      "source": [
        "**TASK 10**"
      ],
      "metadata": {
        "id": "nXgfJR6lphqp"
      }
    },
    {
      "cell_type": "code",
      "source": [
        "inp = input()\n",
        "\n",
        "for x in range (len(inp)): \n",
        "  if inp[x] == ',': \n",
        "    str1 = inp[:x]\n",
        "    str2 = inp[x+2:len(inp)]\n",
        "    break\n",
        "\n",
        "if (len(str1) > len(str2) ):\n",
        "  max = str1\n",
        "  min = str2\n",
        "else :\n",
        "  max = str2\n",
        "  min = str1\n",
        "\n",
        "for x in range (len(min)): \n",
        "  print( str1[x] + str2[x], end=\"\")\n",
        "print(max[len(min)::])"
      ],
      "metadata": {
        "colab": {
          "base_uri": "https://localhost:8080/"
        },
        "id": "px8HnNaApSH3",
        "outputId": "bbcbfb7d-67d0-4a60-f770-a997dc25ebe0"
      },
      "execution_count": 14,
      "outputs": [
        {
          "output_type": "stream",
          "name": "stdout",
          "text": [
            "asdf, zxcvbn\n",
            "azsxdcfvbn\n"
          ]
        }
      ]
    }
  ]
}